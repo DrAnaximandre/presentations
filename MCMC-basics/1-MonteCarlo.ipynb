{
 "cells": [
  {
   "cell_type": "markdown",
   "metadata": {
    "nbpresent": {
     "id": "0044df58-0eb3-4540-a30b-d754d2aeb3a4"
    },
    "slideshow": {
     "slide_type": "slide"
    }
   },
   "source": [
    "MCMC-basics\n",
    "===========\n",
    "\n",
    "\n",
    "Step One : Monte Carlo (25 minutes)\n",
    "-----------------------------------"
   ]
  },
  {
   "cell_type": "markdown",
   "metadata": {
    "nbpresent": {
     "id": "7cbd0ca1-68bf-4be5-ac54-5c112663b5c7"
    },
    "slideshow": {
     "slide_type": "slide"
    }
   },
   "source": [
    "Monte-Carlo (MC) methods:\n",
    "-------------------------\n",
    "\n",
    "* used to estimate an expectation.\n",
    "* based upon an application of the Strong Law of Large Numbers for estimation ...\n",
    "* and on the Limit Central Theorem for error control.\n",
    "* Several variance-reduction techniques are available in the literature.\n"
   ]
  },
  {
   "cell_type": "markdown",
   "metadata": {
    "nbpresent": {
     "id": "50137d40-f64e-4836-b8db-355000be6b65"
    },
    "slideshow": {
     "slide_type": "subslide"
    }
   },
   "source": [
    "\n",
    "Notations:\n",
    "----------\n",
    "\n",
    "* Let us have $E\\subset\\mathbb{R}^{d}\\rightarrow\\mathbb{R}$\n",
    "* and some function  $\\varphi(.)$ from $E$\n",
    "* and finally $\\mathbf{X}$ is a $d-$dimensional random vector (with known\n",
    "density $f_{\\mathbf{X}}$). \n",
    "\n"
   ]
  },
  {
   "cell_type": "markdown",
   "metadata": {
    "slideshow": {
     "slide_type": "notes"
    }
   },
   "source": [
    "* meaning we are restricted to a 1-dimensional output"
   ]
  },
  {
   "cell_type": "markdown",
   "metadata": {
    "nbpresent": {
     "id": "b0e2107d-ac3d-4c19-a9c4-130db7675e84"
    },
    "slideshow": {
     "slide_type": "fragment"
    }
   },
   "source": [
    "These methods:\n",
    "* allow the estimation of an expectation of form:\n",
    "\n",
    "\\begin{equation}\n",
    "I=\\mathbb{E}[\\varphi(\\mathbf{X})]\n",
    "\\end{equation}\n",
    "\n",
    "* or on the integral form:\n",
    "\n",
    "\\begin{equation}\n",
    "I=\\int_{E}\\varphi(\\mathbf{x})f_{\\mathbf{X}}(\\mathbf{x})d\\mathbf{x}\n",
    "\\end{equation}\n",
    "\n",
    "* (these are the same things)\n",
    "* (given that the integral exists)"
   ]
  },
  {
   "cell_type": "markdown",
   "metadata": {
    "collapsed": true,
    "slideshow": {
     "slide_type": "slide"
    }
   },
   "source": [
    "Crude MC:\n",
    "---------\n",
    "\n",
    "\n",
    "* The main idea of this method is to generate a large number of *i.i.d.*\n",
    "vectors with density $f_{\\mathbf{X}}$, then to estimate $I$ with\n",
    "the empirical mean of the $N$ values. \n",
    "\n",
    "* The Strong Law of Large Numbers allows to get an unbiased estimator of $I$:\n"
   ]
  },
  {
   "cell_type": "markdown",
   "metadata": {
    "slideshow": {
     "slide_type": "fragment"
    }
   },
   "source": [
    "\\begin{equation}\n",
    "\\hat{I}=\\frac{1}{N}\\sum_{i=1}^{N}\\varphi(\\mathbf{x}^{i})\n",
    "\\end{equation}\n",
    "\n",
    " * with given $N$ and where $\\mathbf{x}^{i}$ are i.i.d with $f_{\\mathbf{X}}$."
   ]
  },
  {
   "cell_type": "markdown",
   "metadata": {
    "slideshow": {
     "slide_type": "slide"
    }
   },
   "source": [
    "### Example of Crude MC: estimating $\\pi$\n",
    "\n",
    "* We take E the unit square:\n",
    "\\begin{equation}\n",
    "E = [-1,1]^{2}\n",
    "\\end{equation}\n",
    "\n",
    "    "
   ]
  },
  {
   "cell_type": "markdown",
   "metadata": {
    "slideshow": {
     "slide_type": "fragment"
    }
   },
   "source": [
    "* We define the function $\\varphi$ as \"is my point in the unit circle\"?\n",
    "$$\\varphi(\\mathbf{x}) = 1_{\\lVert \\mathbf{x} \\lVert_2 \\leq 1}$$\n"
   ]
  },
  {
   "cell_type": "markdown",
   "metadata": {
    "slideshow": {
     "slide_type": "fragment"
    }
   },
   "source": [
    "* we set  $\\mathbf{X} \\sim \\mathcal{U} [-1,1]^2$ so that \n",
    "$$\n",
    "\\begin{aligned}\n",
    "f_{\\mathbf{X}}(\\mathbf{x}) &= f_{\\mathbf{X}}(x_1,x_2)  \\\\\n",
    "&= \\frac{1}{2} 1_{\\mathbf{x_1} \\in [-1,1]} \\frac{1}{2} 1_{\\mathbf{x_2} \\in [-1,1]}   \\\\\n",
    "&= \\frac{1}{4} 1_{\\mathbf{x} \\in E} \n",
    "\\end{aligned}$$\n",
    "* (the support of $f_{\\mathbf{X}}$ is E so it eases the notations).\n"
   ]
  },
  {
   "cell_type": "markdown",
   "metadata": {
    "slideshow": {
     "slide_type": "slide"
    }
   },
   "source": [
    "$$\n",
    "\\begin{aligned}I &=\\int_{E}\\varphi(\\mathbf{x})f_{\\mathbf{X}}(\\mathbf{x})d\\mathbf{x} \\\\\n",
    "                 &=\\int_{E} 1_{\\lVert x \\lVert_2 \\leq 1}\\frac{1}{4} 1_{\\mathbf{x} \\in E}  d\\mathbf{x}  \\\\\n",
    "                 &=\\frac{1}{4} \\int_{E} 1_{\\sqrt {x_1^2 + x_2^2 } \\leq 1 } d\\mathbf{x_1} d\\mathbf{x_2} \\\\\n",
    "                 &= \n",
    "\\end{aligned}\n",
    "$$\n",
    "\n"
   ]
  },
  {
   "cell_type": "code",
   "execution_count": null,
   "metadata": {
    "collapsed": true
   },
   "outputs": [],
   "source": []
  }
 ],
 "metadata": {
  "celltoolbar": "Slideshow",
  "kernelspec": {
   "display_name": "Python [Root]",
   "language": "python",
   "name": "Python [Root]"
  },
  "language_info": {
   "codemirror_mode": {
    "name": "ipython",
    "version": 3
   },
   "file_extension": ".py",
   "mimetype": "text/x-python",
   "name": "python",
   "nbconvert_exporter": "python",
   "pygments_lexer": "ipython3",
   "version": "3.5.2"
  },
  "nbpresent": {
   "slides": {
    "163e35a0-6744-4311-a431-ceefe433f104": {
     "id": "163e35a0-6744-4311-a431-ceefe433f104",
     "prev": "52a918de-603d-47f9-9ae2-03a20486bdf0",
     "regions": {
      "19c36acb-fee2-468f-bb44-e1076725688f": {
       "attrs": {
        "height": 0.8,
        "width": 0.8,
        "x": 0.1,
        "y": 0.1
       },
       "content": {
        "cell": "b0e2107d-ac3d-4c19-a9c4-130db7675e84",
        "part": "whole"
       },
       "id": "19c36acb-fee2-468f-bb44-e1076725688f"
      },
      "6fdadf9a-b781-4795-95e7-37ca26c8f87d": {
       "attrs": {
        "height": 0.4,
        "width": 0.8,
        "x": 0.1,
        "y": 0.5
       },
       "content": {
        "cell": "90ef23fb-837f-45d6-bf4e-0f73942aaf1e",
        "part": "whole"
       },
       "id": "6fdadf9a-b781-4795-95e7-37ca26c8f87d"
      }
     }
    },
    "164a5245-3573-4834-82b4-28806d350d6c": {
     "id": "164a5245-3573-4834-82b4-28806d350d6c",
     "prev": null,
     "regions": {
      "845c5d18-164f-4134-b78d-362dce5530c2": {
       "attrs": {
        "height": 0.8,
        "width": 0.8,
        "x": 0.1,
        "y": 0.1
       },
       "content": {
        "cell": "0044df58-0eb3-4540-a30b-d754d2aeb3a4",
        "part": "whole"
       },
       "id": "845c5d18-164f-4134-b78d-362dce5530c2"
      }
     }
    },
    "52a918de-603d-47f9-9ae2-03a20486bdf0": {
     "id": "52a918de-603d-47f9-9ae2-03a20486bdf0",
     "prev": "88387a16-3eec-49b4-80ee-e330539c8486",
     "regions": {
      "bacac58f-8622-421b-96f2-2ad3fe2ee836": {
       "attrs": {
        "height": 0.8,
        "width": 0.8,
        "x": 0.1,
        "y": 0.1
       },
       "content": {
        "cell": "50137d40-f64e-4836-b8db-355000be6b65",
        "part": "whole"
       },
       "id": "bacac58f-8622-421b-96f2-2ad3fe2ee836"
      }
     }
    },
    "88387a16-3eec-49b4-80ee-e330539c8486": {
     "id": "88387a16-3eec-49b4-80ee-e330539c8486",
     "prev": "164a5245-3573-4834-82b4-28806d350d6c",
     "regions": {
      "e6901163-0852-4df7-b407-0f38d18fdbf0": {
       "attrs": {
        "height": 0.8,
        "width": 0.8,
        "x": 0.1,
        "y": 0.1
       },
       "content": {
        "cell": "7cbd0ca1-68bf-4be5-ac54-5c112663b5c7",
        "part": "whole"
       },
       "id": "e6901163-0852-4df7-b407-0f38d18fdbf0"
      }
     }
    }
   },
   "themes": {
    "default": "44d756ed-b283-46ef-92aa-8e3df3fa454c",
    "theme": {}
   }
  }
 },
 "nbformat": 4,
 "nbformat_minor": 0
}
